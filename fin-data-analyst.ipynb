{
 "cells": [
  {
   "cell_type": "markdown",
   "id": "8656f4a8",
   "metadata": {},
   "source": [
    "# **Self training work on data consepts using GDP and life satisfaction**\n",
    "## The aim of this project is to demonstrate data analysis concepts and to test some hypothesis in this data. \n",
    "### The Data was imported from github.com  . Below are the various pakages use in this experiment. The csv file was save as lifesat."
   ]
  },
  {
   "cell_type": "code",
   "execution_count": 48,
   "id": "108a83e3",
   "metadata": {},
   "outputs": [],
   "source": [
    "### loading the necessary packages for the entire project. \n",
    "import pandas as pd\n",
    "import seaborn as sns\n",
    "import matplotlib.pyplot as plt\n",
    "import numpy as np\n",
    "from statsmodels.formula.api import ols \n",
    "from scipy.stats import norm\n",
    "\n",
    "import sklearn \n",
    "\n",
    "from sklearn.linear_model import LinearRegression"
   ]
  },
  {
   "cell_type": "code",
   "execution_count": 49,
   "id": "4b07b9a8",
   "metadata": {
    "scrolled": false
   },
   "outputs": [
    {
     "data": {
      "text/html": [
       "<div>\n",
       "<style scoped>\n",
       "    .dataframe tbody tr th:only-of-type {\n",
       "        vertical-align: middle;\n",
       "    }\n",
       "\n",
       "    .dataframe tbody tr th {\n",
       "        vertical-align: top;\n",
       "    }\n",
       "\n",
       "    .dataframe thead th {\n",
       "        text-align: right;\n",
       "    }\n",
       "</style>\n",
       "<table border=\"1\" class=\"dataframe\">\n",
       "  <thead>\n",
       "    <tr style=\"text-align: right;\">\n",
       "      <th></th>\n",
       "      <th>Country</th>\n",
       "      <th>GDP per capita (USD)</th>\n",
       "      <th>Life satisfaction</th>\n",
       "    </tr>\n",
       "  </thead>\n",
       "  <tbody>\n",
       "    <tr>\n",
       "      <th>0</th>\n",
       "      <td>Russia</td>\n",
       "      <td>26456.387938</td>\n",
       "      <td>5.8</td>\n",
       "    </tr>\n",
       "    <tr>\n",
       "      <th>1</th>\n",
       "      <td>Greece</td>\n",
       "      <td>27287.083401</td>\n",
       "      <td>5.4</td>\n",
       "    </tr>\n",
       "    <tr>\n",
       "      <th>2</th>\n",
       "      <td>Turkey</td>\n",
       "      <td>28384.987785</td>\n",
       "      <td>5.5</td>\n",
       "    </tr>\n",
       "    <tr>\n",
       "      <th>3</th>\n",
       "      <td>Latvia</td>\n",
       "      <td>29932.493910</td>\n",
       "      <td>5.9</td>\n",
       "    </tr>\n",
       "    <tr>\n",
       "      <th>4</th>\n",
       "      <td>Hungary</td>\n",
       "      <td>31007.768407</td>\n",
       "      <td>5.6</td>\n",
       "    </tr>\n",
       "    <tr>\n",
       "      <th>5</th>\n",
       "      <td>Portugal</td>\n",
       "      <td>32181.154537</td>\n",
       "      <td>5.4</td>\n",
       "    </tr>\n",
       "    <tr>\n",
       "      <th>6</th>\n",
       "      <td>Poland</td>\n",
       "      <td>32238.157259</td>\n",
       "      <td>6.1</td>\n",
       "    </tr>\n",
       "    <tr>\n",
       "      <th>7</th>\n",
       "      <td>Estonia</td>\n",
       "      <td>35638.421351</td>\n",
       "      <td>5.7</td>\n",
       "    </tr>\n",
       "    <tr>\n",
       "      <th>8</th>\n",
       "      <td>Spain</td>\n",
       "      <td>36215.447591</td>\n",
       "      <td>6.3</td>\n",
       "    </tr>\n",
       "    <tr>\n",
       "      <th>9</th>\n",
       "      <td>Slovenia</td>\n",
       "      <td>36547.738956</td>\n",
       "      <td>5.9</td>\n",
       "    </tr>\n",
       "    <tr>\n",
       "      <th>10</th>\n",
       "      <td>Lithuania</td>\n",
       "      <td>36732.034744</td>\n",
       "      <td>5.9</td>\n",
       "    </tr>\n",
       "    <tr>\n",
       "      <th>11</th>\n",
       "      <td>Israel</td>\n",
       "      <td>38341.307570</td>\n",
       "      <td>7.2</td>\n",
       "    </tr>\n",
       "    <tr>\n",
       "      <th>12</th>\n",
       "      <td>Italy</td>\n",
       "      <td>38992.148381</td>\n",
       "      <td>6.0</td>\n",
       "    </tr>\n",
       "    <tr>\n",
       "      <th>13</th>\n",
       "      <td>United Kingdom</td>\n",
       "      <td>41627.129269</td>\n",
       "      <td>6.8</td>\n",
       "    </tr>\n",
       "    <tr>\n",
       "      <th>14</th>\n",
       "      <td>France</td>\n",
       "      <td>42025.617373</td>\n",
       "      <td>6.5</td>\n",
       "    </tr>\n",
       "    <tr>\n",
       "      <th>15</th>\n",
       "      <td>New Zealand</td>\n",
       "      <td>42404.393738</td>\n",
       "      <td>7.3</td>\n",
       "    </tr>\n",
       "    <tr>\n",
       "      <th>16</th>\n",
       "      <td>Canada</td>\n",
       "      <td>45856.625626</td>\n",
       "      <td>7.4</td>\n",
       "    </tr>\n",
       "    <tr>\n",
       "      <th>17</th>\n",
       "      <td>Finland</td>\n",
       "      <td>47260.800458</td>\n",
       "      <td>7.6</td>\n",
       "    </tr>\n",
       "    <tr>\n",
       "      <th>18</th>\n",
       "      <td>Belgium</td>\n",
       "      <td>48210.033111</td>\n",
       "      <td>6.9</td>\n",
       "    </tr>\n",
       "    <tr>\n",
       "      <th>19</th>\n",
       "      <td>Australia</td>\n",
       "      <td>48697.837028</td>\n",
       "      <td>7.3</td>\n",
       "    </tr>\n",
       "    <tr>\n",
       "      <th>20</th>\n",
       "      <td>Sweden</td>\n",
       "      <td>50683.323510</td>\n",
       "      <td>7.3</td>\n",
       "    </tr>\n",
       "    <tr>\n",
       "      <th>21</th>\n",
       "      <td>Germany</td>\n",
       "      <td>50922.358023</td>\n",
       "      <td>7.0</td>\n",
       "    </tr>\n",
       "    <tr>\n",
       "      <th>22</th>\n",
       "      <td>Austria</td>\n",
       "      <td>51935.603862</td>\n",
       "      <td>7.1</td>\n",
       "    </tr>\n",
       "    <tr>\n",
       "      <th>23</th>\n",
       "      <td>Iceland</td>\n",
       "      <td>52279.728851</td>\n",
       "      <td>7.5</td>\n",
       "    </tr>\n",
       "    <tr>\n",
       "      <th>24</th>\n",
       "      <td>Netherlands</td>\n",
       "      <td>54209.563836</td>\n",
       "      <td>7.4</td>\n",
       "    </tr>\n",
       "    <tr>\n",
       "      <th>25</th>\n",
       "      <td>Denmark</td>\n",
       "      <td>55938.212809</td>\n",
       "      <td>7.6</td>\n",
       "    </tr>\n",
       "    <tr>\n",
       "      <th>26</th>\n",
       "      <td>United States</td>\n",
       "      <td>60235.728492</td>\n",
       "      <td>6.9</td>\n",
       "    </tr>\n",
       "  </tbody>\n",
       "</table>\n",
       "</div>"
      ],
      "text/plain": [
       "           Country  GDP per capita (USD)  Life satisfaction\n",
       "0           Russia          26456.387938                5.8\n",
       "1           Greece          27287.083401                5.4\n",
       "2           Turkey          28384.987785                5.5\n",
       "3           Latvia          29932.493910                5.9\n",
       "4          Hungary          31007.768407                5.6\n",
       "5         Portugal          32181.154537                5.4\n",
       "6           Poland          32238.157259                6.1\n",
       "7          Estonia          35638.421351                5.7\n",
       "8            Spain          36215.447591                6.3\n",
       "9         Slovenia          36547.738956                5.9\n",
       "10       Lithuania          36732.034744                5.9\n",
       "11          Israel          38341.307570                7.2\n",
       "12           Italy          38992.148381                6.0\n",
       "13  United Kingdom          41627.129269                6.8\n",
       "14          France          42025.617373                6.5\n",
       "15     New Zealand          42404.393738                7.3\n",
       "16          Canada          45856.625626                7.4\n",
       "17         Finland          47260.800458                7.6\n",
       "18         Belgium          48210.033111                6.9\n",
       "19       Australia          48697.837028                7.3\n",
       "20          Sweden          50683.323510                7.3\n",
       "21         Germany          50922.358023                7.0\n",
       "22         Austria          51935.603862                7.1\n",
       "23         Iceland          52279.728851                7.5\n",
       "24     Netherlands          54209.563836                7.4\n",
       "25         Denmark          55938.212809                7.6\n",
       "26   United States          60235.728492                6.9"
      ]
     },
     "execution_count": 49,
     "metadata": {},
     "output_type": "execute_result"
    }
   ],
   "source": [
    "### importing the data set from an online data base and saving the data set as lifesat \n",
    "\n",
    "data_root=   \"https://github.com/ageron/data/raw/main/\"\n",
    "lifesat= pd.read_csv(data_root + \"lifesat/lifesat.csv\")\n",
    "lifesat"
   ]
  },
  {
   "cell_type": "code",
   "execution_count": null,
   "id": "aad21520",
   "metadata": {},
   "outputs": [],
   "source": [
    "# Data Cleaning. \n",
    "## the data is good for analysis but to ease our analysis the headings were simplified. "
   ]
  },
  {
   "cell_type": "code",
   "execution_count": 66,
   "id": "239f0fb2",
   "metadata": {},
   "outputs": [],
   "source": [
    "## Data cleaning\n",
    "lifesat\n",
    "life_sat=lifesat.rename(columns={'GDP per capita (USD)':'GDP', 'Life satisfaction':'life'})"
   ]
  },
  {
   "cell_type": "code",
   "execution_count": 54,
   "id": "8299a055",
   "metadata": {},
   "outputs": [],
   "source": [
    "x= lifesat[['GDP per capita (USD)']].values\n",
    "x\n",
    "y= lifesat[['Life satisfaction']]"
   ]
  },
  {
   "cell_type": "markdown",
   "id": "f19bf300",
   "metadata": {},
   "source": [
    "# Understanding the relationship between life satisfaction and gdp per capital\n",
    "## We noticed from the graph below that as GDp per capital increase so does life satisfation too.\n",
    "## Implying countries should keep improving  gdp per capital "
   ]
  },
  {
   "cell_type": "code",
   "execution_count": 55,
   "id": "adb3cc41",
   "metadata": {},
   "outputs": [
    {
     "data": {
      "image/png": "[encoded data removed]",
      "text/plain": [
       "<Figure size 432x288 with 1 Axes>"
      ]
     },
     "metadata": {
      "needs_background": "light"
     },
     "output_type": "display_data"
    }
   ],
   "source": [
    "lifesat.plot(kind='scatter',grid=True, x= 'GDP per capita (USD)',\n",
    "             y =  'Life satisfaction')\n",
    "plt.axis([23_500, 62_500, 4,9])\n",
    "plt.show()\n",
    "\n"
   ]
  },
  {
   "cell_type": "markdown",
   "id": "e825c8f0",
   "metadata": {},
   "source": [
    "# In the following stages , varoiuse statistics test were performed to understand \n",
    "## Sampling\n",
    "### Random sampling.\n",
    "### Finding the population mean and sample mean of the data set. There was no significants difference between the sample means and popultaion means for life expectancy.  mean was given as 5.6"
   ]
  },
  {
   "cell_type": "code",
   "execution_count": 61,
   "id": "4a07175a",
   "metadata": {},
   "outputs": [],
   "source": [
    "# Statistic testin using various statistic techniques\n",
    "## perform some sampling technics on the life state data.\n",
    "lifsat_pop= life_sat[['GDP', 'life']]"
   ]
  },
  {
   "cell_type": "code",
   "execution_count": 60,
   "id": "fd585506",
   "metadata": {},
   "outputs": [
    {
     "data": {
      "text/html": [
       "<div>\n",
       "<style scoped>\n",
       "    .dataframe tbody tr th:only-of-type {\n",
       "        vertical-align: middle;\n",
       "    }\n",
       "\n",
       "    .dataframe tbody tr th {\n",
       "        vertical-align: top;\n",
       "    }\n",
       "\n",
       "    .dataframe thead th {\n",
       "        text-align: right;\n",
       "    }\n",
       "</style>\n",
       "<table border=\"1\" class=\"dataframe\">\n",
       "  <thead>\n",
       "    <tr style=\"text-align: right;\">\n",
       "      <th></th>\n",
       "      <th>GDP</th>\n",
       "      <th>life</th>\n",
       "    </tr>\n",
       "  </thead>\n",
       "  <tbody>\n",
       "    <tr>\n",
       "      <th>0</th>\n",
       "      <td>26456.387938</td>\n",
       "      <td>5.8</td>\n",
       "    </tr>\n",
       "    <tr>\n",
       "      <th>1</th>\n",
       "      <td>27287.083401</td>\n",
       "      <td>5.4</td>\n",
       "    </tr>\n",
       "    <tr>\n",
       "      <th>2</th>\n",
       "      <td>28384.987785</td>\n",
       "      <td>5.5</td>\n",
       "    </tr>\n",
       "    <tr>\n",
       "      <th>3</th>\n",
       "      <td>29932.493910</td>\n",
       "      <td>5.9</td>\n",
       "    </tr>\n",
       "    <tr>\n",
       "      <th>4</th>\n",
       "      <td>31007.768407</td>\n",
       "      <td>5.6</td>\n",
       "    </tr>\n",
       "  </tbody>\n",
       "</table>\n",
       "</div>"
      ],
      "text/plain": [
       "            GDP  life\n",
       "0  26456.387938   5.8\n",
       "1  27287.083401   5.4\n",
       "2  28384.987785   5.5\n",
       "3  29932.493910   5.9\n",
       "4  31007.768407   5.6"
      ]
     },
     "execution_count": 60,
     "metadata": {},
     "output_type": "execute_result"
    }
   ],
   "source": [
    "### understanding the data before performing statistical test\n",
    "lifsat_pop.head()"
   ]
  },
  {
   "cell_type": "code",
   "execution_count": 20,
   "id": "1746003b",
   "metadata": {},
   "outputs": [
    {
     "data": {
      "text/html": [
       "<div>\n",
       "<style scoped>\n",
       "    .dataframe tbody tr th:only-of-type {\n",
       "        vertical-align: middle;\n",
       "    }\n",
       "\n",
       "    .dataframe tbody tr th {\n",
       "        vertical-align: top;\n",
       "    }\n",
       "\n",
       "    .dataframe thead th {\n",
       "        text-align: right;\n",
       "    }\n",
       "</style>\n",
       "<table border=\"1\" class=\"dataframe\">\n",
       "  <thead>\n",
       "    <tr style=\"text-align: right;\">\n",
       "      <th></th>\n",
       "      <th>GDP</th>\n",
       "      <th>life</th>\n",
       "    </tr>\n",
       "  </thead>\n",
       "  <tbody>\n",
       "    <tr>\n",
       "      <th>25</th>\n",
       "      <td>55938.212809</td>\n",
       "      <td>7.6</td>\n",
       "    </tr>\n",
       "    <tr>\n",
       "      <th>18</th>\n",
       "      <td>48210.033111</td>\n",
       "      <td>6.9</td>\n",
       "    </tr>\n",
       "    <tr>\n",
       "      <th>19</th>\n",
       "      <td>48697.837028</td>\n",
       "      <td>7.3</td>\n",
       "    </tr>\n",
       "    <tr>\n",
       "      <th>14</th>\n",
       "      <td>42025.617373</td>\n",
       "      <td>6.5</td>\n",
       "    </tr>\n",
       "    <tr>\n",
       "      <th>16</th>\n",
       "      <td>45856.625626</td>\n",
       "      <td>7.4</td>\n",
       "    </tr>\n",
       "    <tr>\n",
       "      <th>7</th>\n",
       "      <td>35638.421351</td>\n",
       "      <td>5.7</td>\n",
       "    </tr>\n",
       "    <tr>\n",
       "      <th>5</th>\n",
       "      <td>32181.154537</td>\n",
       "      <td>5.4</td>\n",
       "    </tr>\n",
       "    <tr>\n",
       "      <th>12</th>\n",
       "      <td>38992.148381</td>\n",
       "      <td>6.0</td>\n",
       "    </tr>\n",
       "    <tr>\n",
       "      <th>6</th>\n",
       "      <td>32238.157259</td>\n",
       "      <td>6.1</td>\n",
       "    </tr>\n",
       "    <tr>\n",
       "      <th>4</th>\n",
       "      <td>31007.768407</td>\n",
       "      <td>5.6</td>\n",
       "    </tr>\n",
       "  </tbody>\n",
       "</table>\n",
       "</div>"
      ],
      "text/plain": [
       "             GDP  life\n",
       "25  55938.212809   7.6\n",
       "18  48210.033111   6.9\n",
       "19  48697.837028   7.3\n",
       "14  42025.617373   6.5\n",
       "16  45856.625626   7.4\n",
       "7   35638.421351   5.7\n",
       "5   32181.154537   5.4\n",
       "12  38992.148381   6.0\n",
       "6   32238.157259   6.1\n",
       "4   31007.768407   5.6"
      ]
     },
     "execution_count": 20,
     "metadata": {},
     "output_type": "execute_result"
    }
   ],
   "source": [
    "##.1  samplelifsat using random statistic(understanding randomstatistics)\n",
    "lifesat_sample= lifsat_pop.sample(n=10)\n",
    "lifesat_sample"
   ]
  },
  {
   "cell_type": "code",
   "execution_count": 22,
   "id": "3fd56f15",
   "metadata": {},
   "outputs": [
    {
     "data": {
      "text/plain": [
       "6.566666666666666"
      ]
     },
     "execution_count": 22,
     "metadata": {},
     "output_type": "execute_result"
    }
   ],
   "source": [
    "## check population paramater\n",
    "### mean using numpy\n",
    "import numpy as np\n",
    "np.mean(lifsat_pop['life'])"
   ]
  },
  {
   "cell_type": "code",
   "execution_count": 23,
   "id": "78d8ec3d",
   "metadata": {},
   "outputs": [
    {
     "data": {
      "text/plain": [
       "6.566666666666666"
      ]
     },
     "execution_count": 23,
     "metadata": {},
     "output_type": "execute_result"
    }
   ],
   "source": [
    "lifsat_pop['life'].mean()\n"
   ]
  },
  {
   "cell_type": "markdown",
   "id": "4ea74d8e",
   "metadata": {},
   "source": [
    "## Does life expectancy follows a normal distribution. \n",
    "### plotting both the population and the sample data set shows that the distribution is not normally distributed. "
   ]
  },
  {
   "cell_type": "code",
   "execution_count": 62,
   "id": "66082c59",
   "metadata": {},
   "outputs": [
    {
     "data": {
      "text/plain": [
       "<AxesSubplot:>"
      ]
     },
     "execution_count": 62,
     "metadata": {},
     "output_type": "execute_result"
    },
    {
     "data": {
      "image/png": "[encoded data removed]",
      "text/plain": [
       "<Figure size 432x288 with 1 Axes>"
      ]
     },
     "metadata": {
      "needs_background": "light"
     },
     "output_type": "display_data"
    }
   ],
   "source": [
    "###  visualising  GDP\n",
    "### Both pop data and sample data\n",
    "lifsat_pop['life'].hist(bins=np.arange(2,9,0.5))\n",
    "lifesat_sample['life'].hist(bins=np.arange(2,9,0.5))"
   ]
  },
  {
   "cell_type": "markdown",
   "id": "6d6cedc3",
   "metadata": {},
   "source": [
    "# This random number sampling is used to demonstrate a normal curve distribution. "
   ]
  },
  {
   "cell_type": "code",
   "execution_count": 27,
   "id": "37689787",
   "metadata": {
    "scrolled": true
   },
   "outputs": [
    {
     "data": {
      "text/plain": [
       "(array([  0.,   0.,   2.,   8.,  27., 123., 281., 467., 730., 840., 949.,\n",
       "        701., 458., 262., 108.,  36.,   7.,   1.,   0.]),\n",
       " array([0.  , 0.05, 0.1 , 0.15, 0.2 , 0.25, 0.3 , 0.35, 0.4 , 0.45, 0.5 ,\n",
       "        0.55, 0.6 , 0.65, 0.7 , 0.75, 0.8 , 0.85, 0.9 , 0.95]),\n",
       " <BarContainer object of 19 artists>)"
      ]
     },
     "execution_count": 27,
     "metadata": {},
     "output_type": "execute_result"
    },
    {
     "data": {
      "image/png": "[encoded data removed]",
      "text/plain": [
       "<Figure size 432x288 with 1 Axes>"
      ]
     },
     "metadata": {
      "needs_background": "light"
     },
     "output_type": "display_data"
    }
   ],
   "source": [
    "# visualised a random number sample to understand if the plot above follows a simple random distribution grap\n",
    "random = np.random.beta(a=10, b=10, size=5000)\n",
    "random\n",
    "plt.hist(random, bins=np.arange(0,1,.05))"
   ]
  },
  {
   "cell_type": "code",
   "execution_count": 63,
   "id": "a3c42d10",
   "metadata": {},
   "outputs": [
    {
     "data": {
      "text/html": [
       "<div>\n",
       "<style scoped>\n",
       "    .dataframe tbody tr th:only-of-type {\n",
       "        vertical-align: middle;\n",
       "    }\n",
       "\n",
       "    .dataframe tbody tr th {\n",
       "        vertical-align: top;\n",
       "    }\n",
       "\n",
       "    .dataframe thead th {\n",
       "        text-align: right;\n",
       "    }\n",
       "</style>\n",
       "<table border=\"1\" class=\"dataframe\">\n",
       "  <thead>\n",
       "    <tr style=\"text-align: right;\">\n",
       "      <th></th>\n",
       "      <th>Country</th>\n",
       "      <th>GDP</th>\n",
       "      <th>life</th>\n",
       "    </tr>\n",
       "  </thead>\n",
       "  <tbody>\n",
       "    <tr>\n",
       "      <th>3</th>\n",
       "      <td>Latvia</td>\n",
       "      <td>29932.493910</td>\n",
       "      <td>5.9</td>\n",
       "    </tr>\n",
       "    <tr>\n",
       "      <th>16</th>\n",
       "      <td>Canada</td>\n",
       "      <td>45856.625626</td>\n",
       "      <td>7.4</td>\n",
       "    </tr>\n",
       "    <tr>\n",
       "      <th>19</th>\n",
       "      <td>Australia</td>\n",
       "      <td>48697.837028</td>\n",
       "      <td>7.3</td>\n",
       "    </tr>\n",
       "    <tr>\n",
       "      <th>8</th>\n",
       "      <td>Spain</td>\n",
       "      <td>36215.447591</td>\n",
       "      <td>6.3</td>\n",
       "    </tr>\n",
       "    <tr>\n",
       "      <th>2</th>\n",
       "      <td>Turkey</td>\n",
       "      <td>28384.987785</td>\n",
       "      <td>5.5</td>\n",
       "    </tr>\n",
       "  </tbody>\n",
       "</table>\n",
       "</div>"
      ],
      "text/plain": [
       "      Country           GDP  life\n",
       "3      Latvia  29932.493910   5.9\n",
       "16     Canada  45856.625626   7.4\n",
       "19  Australia  48697.837028   7.3\n",
       "8       Spain  36215.447591   6.3\n",
       "2      Turkey  28384.987785   5.5"
      ]
     },
     "execution_count": 63,
     "metadata": {},
     "output_type": "execute_result"
    }
   ],
   "source": [
    "### Performing random sampling on the data set\n",
    "\n",
    "life_sat.sample(n=5, random_state=19000113)"
   ]
  },
  {
   "cell_type": "markdown",
   "id": "162ece9b",
   "metadata": {},
   "source": [
    "## Understanding systematic sampling. \n"
   ]
  },
  {
   "cell_type": "code",
   "execution_count": 29,
   "id": "1f87134f",
   "metadata": {},
   "outputs": [
    {
     "data": {
      "text/plain": [
       "27"
      ]
     },
     "execution_count": 29,
     "metadata": {},
     "output_type": "execute_result"
    }
   ],
   "source": [
    "### understanding systematic sample\n",
    "Sample_size= 5\n",
    "pop_size= len(life_sat)\n",
    "pop_size"
   ]
  },
  {
   "cell_type": "code",
   "execution_count": 30,
   "id": "49709a9e",
   "metadata": {},
   "outputs": [
    {
     "data": {
      "text/plain": [
       "5"
      ]
     },
     "execution_count": 30,
     "metadata": {},
     "output_type": "execute_result"
    }
   ],
   "source": [
    "interval = pop_size//Sample_size\n",
    "interval"
   ]
  },
  {
   "cell_type": "code",
   "execution_count": null,
   "id": "922aadb8",
   "metadata": {},
   "outputs": [],
   "source": [
    "## systematic sampling"
   ]
  },
  {
   "cell_type": "code",
   "execution_count": 31,
   "id": "63835948",
   "metadata": {
    "scrolled": true
   },
   "outputs": [
    {
     "data": {
      "text/html": [
       "<div>\n",
       "<style scoped>\n",
       "    .dataframe tbody tr th:only-of-type {\n",
       "        vertical-align: middle;\n",
       "    }\n",
       "\n",
       "    .dataframe tbody tr th {\n",
       "        vertical-align: top;\n",
       "    }\n",
       "\n",
       "    .dataframe thead th {\n",
       "        text-align: right;\n",
       "    }\n",
       "</style>\n",
       "<table border=\"1\" class=\"dataframe\">\n",
       "  <thead>\n",
       "    <tr style=\"text-align: right;\">\n",
       "      <th></th>\n",
       "      <th>Country</th>\n",
       "      <th>GDP</th>\n",
       "      <th>life</th>\n",
       "    </tr>\n",
       "  </thead>\n",
       "  <tbody>\n",
       "    <tr>\n",
       "      <th>0</th>\n",
       "      <td>Russia</td>\n",
       "      <td>26456.387938</td>\n",
       "      <td>5.8</td>\n",
       "    </tr>\n",
       "    <tr>\n",
       "      <th>5</th>\n",
       "      <td>Portugal</td>\n",
       "      <td>32181.154537</td>\n",
       "      <td>5.4</td>\n",
       "    </tr>\n",
       "    <tr>\n",
       "      <th>10</th>\n",
       "      <td>Lithuania</td>\n",
       "      <td>36732.034744</td>\n",
       "      <td>5.9</td>\n",
       "    </tr>\n",
       "    <tr>\n",
       "      <th>15</th>\n",
       "      <td>New Zealand</td>\n",
       "      <td>42404.393738</td>\n",
       "      <td>7.3</td>\n",
       "    </tr>\n",
       "    <tr>\n",
       "      <th>20</th>\n",
       "      <td>Sweden</td>\n",
       "      <td>50683.323510</td>\n",
       "      <td>7.3</td>\n",
       "    </tr>\n",
       "    <tr>\n",
       "      <th>25</th>\n",
       "      <td>Denmark</td>\n",
       "      <td>55938.212809</td>\n",
       "      <td>7.6</td>\n",
       "    </tr>\n",
       "  </tbody>\n",
       "</table>\n",
       "</div>"
      ],
      "text/plain": [
       "        Country           GDP  life\n",
       "0        Russia  26456.387938   5.8\n",
       "5      Portugal  32181.154537   5.4\n",
       "10    Lithuania  36732.034744   5.9\n",
       "15  New Zealand  42404.393738   7.3\n",
       "20       Sweden  50683.323510   7.3\n",
       "25      Denmark  55938.212809   7.6"
      ]
     },
     "execution_count": 31,
     "metadata": {},
     "output_type": "execute_result"
    }
   ],
   "source": [
    "### systematic samplin  and rol selection\n",
    "life_system= life_sat.iloc[::interval]\n",
    "life_system"
   ]
  },
  {
   "cell_type": "code",
   "execution_count": 67,
   "id": "9d857b2b",
   "metadata": {},
   "outputs": [
    {
     "data": {
      "image/png": "[encoded data removed]",
      "text/plain": [
       "<Figure size 432x288 with 1 Axes>"
      ]
     },
     "metadata": {
      "needs_background": "light"
     },
     "output_type": "display_data"
    }
   ],
   "source": [
    "### ploting systematic sampling using reset data set call life_system_Id.\n",
    "life_system_id= life_system.reset_index()\n",
    "life_system_id\n",
    "life_system_id.plot(x=\"index\", y='GDP', kind=\"scatter\")\n",
    "plt.show()"
   ]
  },
  {
   "cell_type": "code",
   "execution_count": 33,
   "id": "2f5c7977",
   "metadata": {},
   "outputs": [
    {
     "data": {
      "text/html": [
       "<div>\n",
       "<style scoped>\n",
       "    .dataframe tbody tr th:only-of-type {\n",
       "        vertical-align: middle;\n",
       "    }\n",
       "\n",
       "    .dataframe tbody tr th {\n",
       "        vertical-align: top;\n",
       "    }\n",
       "\n",
       "    .dataframe thead th {\n",
       "        text-align: right;\n",
       "    }\n",
       "</style>\n",
       "<table border=\"1\" class=\"dataframe\">\n",
       "  <thead>\n",
       "    <tr style=\"text-align: right;\">\n",
       "      <th></th>\n",
       "      <th>index</th>\n",
       "      <th>Country</th>\n",
       "      <th>GDP</th>\n",
       "      <th>life</th>\n",
       "    </tr>\n",
       "  </thead>\n",
       "  <tbody>\n",
       "    <tr>\n",
       "      <th>0</th>\n",
       "      <td>0</td>\n",
       "      <td>Russia</td>\n",
       "      <td>26456.387938</td>\n",
       "      <td>5.8</td>\n",
       "    </tr>\n",
       "    <tr>\n",
       "      <th>1</th>\n",
       "      <td>5</td>\n",
       "      <td>Portugal</td>\n",
       "      <td>32181.154537</td>\n",
       "      <td>5.4</td>\n",
       "    </tr>\n",
       "    <tr>\n",
       "      <th>2</th>\n",
       "      <td>10</td>\n",
       "      <td>Lithuania</td>\n",
       "      <td>36732.034744</td>\n",
       "      <td>5.9</td>\n",
       "    </tr>\n",
       "    <tr>\n",
       "      <th>3</th>\n",
       "      <td>15</td>\n",
       "      <td>New Zealand</td>\n",
       "      <td>42404.393738</td>\n",
       "      <td>7.3</td>\n",
       "    </tr>\n",
       "    <tr>\n",
       "      <th>4</th>\n",
       "      <td>20</td>\n",
       "      <td>Sweden</td>\n",
       "      <td>50683.323510</td>\n",
       "      <td>7.3</td>\n",
       "    </tr>\n",
       "    <tr>\n",
       "      <th>5</th>\n",
       "      <td>25</td>\n",
       "      <td>Denmark</td>\n",
       "      <td>55938.212809</td>\n",
       "      <td>7.6</td>\n",
       "    </tr>\n",
       "  </tbody>\n",
       "</table>\n",
       "</div>"
      ],
      "text/plain": [
       "   index      Country           GDP  life\n",
       "0      0       Russia  26456.387938   5.8\n",
       "1      5     Portugal  32181.154537   5.4\n",
       "2     10    Lithuania  36732.034744   5.9\n",
       "3     15  New Zealand  42404.393738   7.3\n",
       "4     20       Sweden  50683.323510   7.3\n",
       "5     25      Denmark  55938.212809   7.6"
      ]
     },
     "execution_count": 33,
     "metadata": {},
     "output_type": "execute_result"
    }
   ],
   "source": [
    "life_system_id"
   ]
  },
  {
   "cell_type": "markdown",
   "id": "5581774f",
   "metadata": {},
   "source": [
    "# **Hypothesis testing.**\n",
    "### What is the implication of mean GDP greater than 5000\n",
    "### We start by  samplig the Data set. "
   ]
  },
  {
   "cell_type": "code",
   "execution_count": 34,
   "id": "14ae2674",
   "metadata": {},
   "outputs": [
    {
     "data": {
      "text/html": [
       "<div>\n",
       "<style scoped>\n",
       "    .dataframe tbody tr th:only-of-type {\n",
       "        vertical-align: middle;\n",
       "    }\n",
       "\n",
       "    .dataframe tbody tr th {\n",
       "        vertical-align: top;\n",
       "    }\n",
       "\n",
       "    .dataframe thead th {\n",
       "        text-align: right;\n",
       "    }\n",
       "</style>\n",
       "<table border=\"1\" class=\"dataframe\">\n",
       "  <thead>\n",
       "    <tr style=\"text-align: right;\">\n",
       "      <th></th>\n",
       "      <th>index</th>\n",
       "      <th>Country</th>\n",
       "      <th>GDP</th>\n",
       "      <th>life</th>\n",
       "    </tr>\n",
       "  </thead>\n",
       "  <tbody>\n",
       "    <tr>\n",
       "      <th>0</th>\n",
       "      <td>0</td>\n",
       "      <td>Turkey</td>\n",
       "      <td>28384.987785</td>\n",
       "      <td>5.5</td>\n",
       "    </tr>\n",
       "    <tr>\n",
       "      <th>1</th>\n",
       "      <td>1</td>\n",
       "      <td>Denmark</td>\n",
       "      <td>55938.212809</td>\n",
       "      <td>7.6</td>\n",
       "    </tr>\n",
       "    <tr>\n",
       "      <th>2</th>\n",
       "      <td>2</td>\n",
       "      <td>Spain</td>\n",
       "      <td>36215.447591</td>\n",
       "      <td>6.3</td>\n",
       "    </tr>\n",
       "    <tr>\n",
       "      <th>3</th>\n",
       "      <td>3</td>\n",
       "      <td>Latvia</td>\n",
       "      <td>29932.493910</td>\n",
       "      <td>5.9</td>\n",
       "    </tr>\n",
       "    <tr>\n",
       "      <th>4</th>\n",
       "      <td>4</td>\n",
       "      <td>Lithuania</td>\n",
       "      <td>36732.034744</td>\n",
       "      <td>5.9</td>\n",
       "    </tr>\n",
       "    <tr>\n",
       "      <th>5</th>\n",
       "      <td>5</td>\n",
       "      <td>Austria</td>\n",
       "      <td>51935.603862</td>\n",
       "      <td>7.1</td>\n",
       "    </tr>\n",
       "    <tr>\n",
       "      <th>6</th>\n",
       "      <td>6</td>\n",
       "      <td>New Zealand</td>\n",
       "      <td>42404.393738</td>\n",
       "      <td>7.3</td>\n",
       "    </tr>\n",
       "    <tr>\n",
       "      <th>7</th>\n",
       "      <td>7</td>\n",
       "      <td>Italy</td>\n",
       "      <td>38992.148381</td>\n",
       "      <td>6.0</td>\n",
       "    </tr>\n",
       "    <tr>\n",
       "      <th>8</th>\n",
       "      <td>8</td>\n",
       "      <td>Poland</td>\n",
       "      <td>32238.157259</td>\n",
       "      <td>6.1</td>\n",
       "    </tr>\n",
       "    <tr>\n",
       "      <th>9</th>\n",
       "      <td>9</td>\n",
       "      <td>Estonia</td>\n",
       "      <td>35638.421351</td>\n",
       "      <td>5.7</td>\n",
       "    </tr>\n",
       "    <tr>\n",
       "      <th>10</th>\n",
       "      <td>10</td>\n",
       "      <td>Netherlands</td>\n",
       "      <td>54209.563836</td>\n",
       "      <td>7.4</td>\n",
       "    </tr>\n",
       "    <tr>\n",
       "      <th>11</th>\n",
       "      <td>11</td>\n",
       "      <td>Sweden</td>\n",
       "      <td>50683.323510</td>\n",
       "      <td>7.3</td>\n",
       "    </tr>\n",
       "    <tr>\n",
       "      <th>12</th>\n",
       "      <td>12</td>\n",
       "      <td>Belgium</td>\n",
       "      <td>48210.033111</td>\n",
       "      <td>6.9</td>\n",
       "    </tr>\n",
       "    <tr>\n",
       "      <th>13</th>\n",
       "      <td>13</td>\n",
       "      <td>Greece</td>\n",
       "      <td>27287.083401</td>\n",
       "      <td>5.4</td>\n",
       "    </tr>\n",
       "    <tr>\n",
       "      <th>14</th>\n",
       "      <td>14</td>\n",
       "      <td>Australia</td>\n",
       "      <td>48697.837028</td>\n",
       "      <td>7.3</td>\n",
       "    </tr>\n",
       "    <tr>\n",
       "      <th>15</th>\n",
       "      <td>15</td>\n",
       "      <td>France</td>\n",
       "      <td>42025.617373</td>\n",
       "      <td>6.5</td>\n",
       "    </tr>\n",
       "    <tr>\n",
       "      <th>16</th>\n",
       "      <td>16</td>\n",
       "      <td>Russia</td>\n",
       "      <td>26456.387938</td>\n",
       "      <td>5.8</td>\n",
       "    </tr>\n",
       "    <tr>\n",
       "      <th>17</th>\n",
       "      <td>17</td>\n",
       "      <td>Hungary</td>\n",
       "      <td>31007.768407</td>\n",
       "      <td>5.6</td>\n",
       "    </tr>\n",
       "    <tr>\n",
       "      <th>18</th>\n",
       "      <td>18</td>\n",
       "      <td>Iceland</td>\n",
       "      <td>52279.728851</td>\n",
       "      <td>7.5</td>\n",
       "    </tr>\n",
       "    <tr>\n",
       "      <th>19</th>\n",
       "      <td>19</td>\n",
       "      <td>Canada</td>\n",
       "      <td>45856.625626</td>\n",
       "      <td>7.4</td>\n",
       "    </tr>\n",
       "    <tr>\n",
       "      <th>20</th>\n",
       "      <td>20</td>\n",
       "      <td>United States</td>\n",
       "      <td>60235.728492</td>\n",
       "      <td>6.9</td>\n",
       "    </tr>\n",
       "    <tr>\n",
       "      <th>21</th>\n",
       "      <td>21</td>\n",
       "      <td>Israel</td>\n",
       "      <td>38341.307570</td>\n",
       "      <td>7.2</td>\n",
       "    </tr>\n",
       "    <tr>\n",
       "      <th>22</th>\n",
       "      <td>22</td>\n",
       "      <td>Slovenia</td>\n",
       "      <td>36547.738956</td>\n",
       "      <td>5.9</td>\n",
       "    </tr>\n",
       "    <tr>\n",
       "      <th>23</th>\n",
       "      <td>23</td>\n",
       "      <td>Portugal</td>\n",
       "      <td>32181.154537</td>\n",
       "      <td>5.4</td>\n",
       "    </tr>\n",
       "    <tr>\n",
       "      <th>24</th>\n",
       "      <td>24</td>\n",
       "      <td>Germany</td>\n",
       "      <td>50922.358023</td>\n",
       "      <td>7.0</td>\n",
       "    </tr>\n",
       "    <tr>\n",
       "      <th>25</th>\n",
       "      <td>25</td>\n",
       "      <td>Finland</td>\n",
       "      <td>47260.800458</td>\n",
       "      <td>7.6</td>\n",
       "    </tr>\n",
       "    <tr>\n",
       "      <th>26</th>\n",
       "      <td>26</td>\n",
       "      <td>United Kingdom</td>\n",
       "      <td>41627.129269</td>\n",
       "      <td>6.8</td>\n",
       "    </tr>\n",
       "  </tbody>\n",
       "</table>\n",
       "</div>"
      ],
      "text/plain": [
       "    index         Country           GDP  life\n",
       "0       0          Turkey  28384.987785   5.5\n",
       "1       1         Denmark  55938.212809   7.6\n",
       "2       2           Spain  36215.447591   6.3\n",
       "3       3          Latvia  29932.493910   5.9\n",
       "4       4       Lithuania  36732.034744   5.9\n",
       "5       5         Austria  51935.603862   7.1\n",
       "6       6     New Zealand  42404.393738   7.3\n",
       "7       7           Italy  38992.148381   6.0\n",
       "8       8          Poland  32238.157259   6.1\n",
       "9       9         Estonia  35638.421351   5.7\n",
       "10     10     Netherlands  54209.563836   7.4\n",
       "11     11          Sweden  50683.323510   7.3\n",
       "12     12         Belgium  48210.033111   6.9\n",
       "13     13          Greece  27287.083401   5.4\n",
       "14     14       Australia  48697.837028   7.3\n",
       "15     15          France  42025.617373   6.5\n",
       "16     16          Russia  26456.387938   5.8\n",
       "17     17         Hungary  31007.768407   5.6\n",
       "18     18         Iceland  52279.728851   7.5\n",
       "19     19          Canada  45856.625626   7.4\n",
       "20     20   United States  60235.728492   6.9\n",
       "21     21          Israel  38341.307570   7.2\n",
       "22     22        Slovenia  36547.738956   5.9\n",
       "23     23        Portugal  32181.154537   5.4\n",
       "24     24         Germany  50922.358023   7.0\n",
       "25     25         Finland  47260.800458   7.6\n",
       "26     26  United Kingdom  41627.129269   6.8"
      ]
     },
     "execution_count": 34,
     "metadata": {},
     "output_type": "execute_result"
    }
   ],
   "source": [
    "shuffled= life_sat.sample(frac=1)\n",
    "shuffled= shuffled.reset_index(drop= True).reset_index()\n",
    "shuffled"
   ]
  },
  {
   "cell_type": "code",
   "execution_count": 35,
   "id": "69111a63",
   "metadata": {},
   "outputs": [
    {
     "data": {
      "text/plain": [
       "<AxesSubplot:xlabel='index', ylabel='GDP'>"
      ]
     },
     "execution_count": 35,
     "metadata": {},
     "output_type": "execute_result"
    },
    {
     "data": {
      "image/png": "[encoded data removed]",
      "text/plain": [
       "<Figure size 432x288 with 1 Axes>"
      ]
     },
     "metadata": {
      "needs_background": "light"
     },
     "output_type": "display_data"
    }
   ],
   "source": [
    "shuffled.plot(x=\"index\", y= 'GDP', kind= \"scatter\")"
   ]
  },
  {
   "cell_type": "markdown",
   "id": "0908780e",
   "metadata": {},
   "source": [
    "## next we calculate the relative errors in the sample distribution\n",
    "the relative errors was given as 13.922"
   ]
  },
  {
   "cell_type": "code",
   "execution_count": 36,
   "id": "af669d90",
   "metadata": {},
   "outputs": [
    {
     "data": {
      "text/plain": [
       "13.922817390655053"
      ]
     },
     "execution_count": 36,
     "metadata": {},
     "output_type": "execute_result"
    }
   ],
   "source": [
    "# calculating relative error\n",
    "# 100*(pop_mean-sample_mean)/pop_mean\n",
    "\n",
    "life_sat_mean= life_sat['GDP'].mean()\n",
    "life_sat_mean\n",
    "life_sat_sample_mean= life_sat.sample(n=10, )['GDP'].mean()\n",
    "life_sat_sample_mean\n",
    "reletive_error= 100*abs(life_sat_mean-life_sat_sample_mean)/life_sat_mean\n",
    "reletive_error"
   ]
  },
  {
   "cell_type": "code",
   "execution_count": 37,
   "id": "61bbd8ac",
   "metadata": {},
   "outputs": [
    {
     "data": {
      "text/plain": [
       "10"
      ]
     },
     "execution_count": 37,
     "metadata": {},
     "output_type": "execute_result"
    }
   ],
   "source": [
    "# sample sizes\n",
    "sample_sizes= len( life_sat.sample(n=10, ))\n",
    "sample_sizes"
   ]
  },
  {
   "cell_type": "markdown",
   "id": "6cac0401",
   "metadata": {},
   "source": [
    " ## A boodstrap distribution of the error term.\n",
    "\n",
    " Finding the standard error term use in calculating Z-score"
   ]
  },
  {
   "cell_type": "code",
   "execution_count": 39,
   "id": "0388c20e",
   "metadata": {},
   "outputs": [],
   "source": [
    "# get the error of the standard distribution and means\n",
    "\n",
    "mean_cup_points_1000=[]\n",
    "for i in range (1000):\n",
    "    mean_cup_points_1000.append(\n",
    "       np.mean(life_sat.sample(frac=1,replace=True)['GDP'])\n",
    "    )\n",
    "boodstrap_distn=mean_cup_points_1000"
   ]
  },
  {
   "cell_type": "code",
   "execution_count": 40,
   "id": "83b3ff30",
   "metadata": {},
   "outputs": [
    {
     "data": {
      "image/png": "[encoded data removed]",
      "text/plain": [
       "<Figure size 432x288 with 1 Axes>"
      ]
     },
     "metadata": {
      "needs_background": "light"
     },
     "output_type": "display_data"
    }
   ],
   "source": [
    "plt.hist(boodstrap_distn, bins=15)\n",
    "plt.show()\n"
   ]
  },
  {
   "cell_type": "code",
   "execution_count": 41,
   "id": "80a068cc",
   "metadata": {},
   "outputs": [],
   "source": [
    "# the standard error of \n",
    "std_erre= np.std(boodstrap_distn, ddof=1)"
   ]
  },
  {
   "cell_type": "markdown",
   "id": "9fa499bd",
   "metadata": {},
   "source": [
    "# calculating the population mean .\n",
    "The population mean was given as 41564. From this means it can clarly be stated that a GDP of 5000 and above signifies an average above the countries average GDP.\n",
    "This is an indicator that an economy with a gdp above 5000 economy performs better than it peers. However we most test the significanse of our result using Z-score. "
   ]
  },
  {
   "cell_type": "code",
   "execution_count": 127,
   "id": "cd457c90",
   "metadata": {},
   "outputs": [
    {
     "data": {
      "text/plain": [
       "41564.521771015454"
      ]
     },
     "execution_count": 127,
     "metadata": {},
     "output_type": "execute_result"
    }
   ],
   "source": [
    "# mean of life_sat\n",
    "mean = life_sat['GDP'].mean()\n",
    "mean"
   ]
  },
  {
   "cell_type": "code",
   "execution_count": null,
   "id": "b4a79f9a",
   "metadata": {},
   "outputs": [],
   "source": []
  },
  {
   "cell_type": "code",
   "execution_count": 131,
   "id": "82971b8b",
   "metadata": {},
   "outputs": [
    {
     "data": {
      "text/plain": [
       "-19.461721035916252"
      ]
     },
     "execution_count": 131,
     "metadata": {},
     "output_type": "execute_result"
    }
   ],
   "source": [
    "# gdp greater than 5000 shows a better performing economics\n",
    "GDP_5000= 5000\n",
    "Z= (5000-mean)/std_erre\n",
    "Z"
   ]
  }
 ],
 "metadata": {
  "kernelspec": {
   "display_name": "Python 3 (ipykernel)",
   "language": "python",
   "name": "python3"
  },
  "language_info": {
   "codemirror_mode": {
    "name": "ipython",
    "version": 3
   },
   "file_extension": ".py",
   "mimetype": "text/x-python",
   "name": "python",
   "nbconvert_exporter": "python",
   "pygments_lexer": "ipython3",
   "version": "3.9.12"
  }
 },
 "nbformat": 4,
 "nbformat_minor": 5
}
